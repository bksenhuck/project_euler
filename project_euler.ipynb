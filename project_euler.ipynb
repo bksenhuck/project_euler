{
  "nbformat": 4,
  "nbformat_minor": 0,
  "metadata": {
    "colab": {
      "name": "project_euler.ipynb",
      "provenance": [],
      "authorship_tag": "ABX9TyM1tnCKu1krhP5AyF9gyQnn",
      "include_colab_link": true
    },
    "kernelspec": {
      "name": "python3",
      "display_name": "Python 3"
    }
  },
  "cells": [
    {
      "cell_type": "markdown",
      "metadata": {
        "id": "view-in-github",
        "colab_type": "text"
      },
      "source": [
        "<a href=\"https://colab.research.google.com/github/ksenhuck/project_euler/blob/master/project_euler.ipynb\" target=\"_parent\"><img src=\"https://colab.research.google.com/assets/colab-badge.svg\" alt=\"Open In Colab\"/></a>"
      ]
    },
    {
      "cell_type": "code",
      "metadata": {
        "id": "scJkkT4x5-el",
        "colab_type": "code",
        "colab": {}
      },
      "source": [
        "https://projecteuler.net/"
      ],
      "execution_count": 0,
      "outputs": []
    },
    {
      "cell_type": "code",
      "metadata": {
        "id": "aeeOGyKhxmtd",
        "colab_type": "code",
        "colab": {}
      },
      "source": [
        "import pandas as pd\n",
        "import numpy as np"
      ],
      "execution_count": 0,
      "outputs": []
    },
    {
      "cell_type": "code",
      "metadata": {
        "id": "k_3w00vP52aE",
        "colab_type": "code",
        "colab": {}
      },
      "source": [
        "# Primeiro Exercício"
      ],
      "execution_count": 0,
      "outputs": []
    },
    {
      "cell_type": "code",
      "metadata": {
        "id": "d0V7hnSVxw-R",
        "colab_type": "code",
        "colab": {
          "base_uri": "https://localhost:8080/",
          "height": 34
        },
        "outputId": "34eeb9c8-ce4c-41d2-d927-2d4aba5a1e98"
      },
      "source": [
        "lista = np.arange(0,1000)\n",
        "divisores = [3,5]\n",
        "soma = []\n",
        "\n",
        "for a in divisores:\n",
        "  for index in lista:\n",
        "    if index%a == 0 :\n",
        "      soma.append(index)\n",
        "\n",
        "soma = list(dict.fromkeys(soma))\n",
        "sum(soma)     "
      ],
      "execution_count": 96,
      "outputs": [
        {
          "output_type": "execute_result",
          "data": {
            "text/plain": [
              "233168"
            ]
          },
          "metadata": {
            "tags": []
          },
          "execution_count": 96
        }
      ]
    },
    {
      "cell_type": "code",
      "metadata": {
        "id": "r1MN9qAe58-z",
        "colab_type": "code",
        "colab": {}
      },
      "source": [
        "# Segundo Exercício"
      ],
      "execution_count": 0,
      "outputs": []
    }
  ]
}