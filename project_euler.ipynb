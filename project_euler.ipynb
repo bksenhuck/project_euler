{
  "nbformat": 4,
  "nbformat_minor": 0,
  "metadata": {
    "colab": {
      "name": "project_euler.ipynb",
      "provenance": [],
      "authorship_tag": "ABX9TyNhTa++kSSVHR2eS6m0Xcu3",
      "include_colab_link": true
    },
    "kernelspec": {
      "name": "python3",
      "display_name": "Python 3"
    }
  },
  "cells": [
    {
      "cell_type": "markdown",
      "metadata": {
        "id": "view-in-github",
        "colab_type": "text"
      },
      "source": [
        "<a href=\"https://colab.research.google.com/github/ksenhuck/project_euler/blob/master/project_euler.ipynb\" target=\"_parent\"><img src=\"https://colab.research.google.com/assets/colab-badge.svg\" alt=\"Open In Colab\"/></a>"
      ]
    },
    {
      "cell_type": "code",
      "metadata": {
        "id": "scJkkT4x5-el",
        "colab_type": "code",
        "colab": {}
      },
      "source": [
        "Exercise taken from: https://projecteuler.net/"
      ],
      "execution_count": 0,
      "outputs": []
    },
    {
      "cell_type": "code",
      "metadata": {
        "id": "aeeOGyKhxmtd",
        "colab_type": "code",
        "colab": {}
      },
      "source": [
        "import pandas as pd\n",
        "import numpy as np"
      ],
      "execution_count": 0,
      "outputs": []
    },
    {
      "cell_type": "markdown",
      "metadata": {
        "id": "k_3w00vP52aE",
        "colab_type": "text"
      },
      "source": [
        "# Problem 1"
      ]
    },
    {
      "cell_type": "code",
      "metadata": {
        "id": "d0V7hnSVxw-R",
        "colab_type": "code",
        "colab": {
          "base_uri": "https://localhost:8080/",
          "height": 34
        },
        "outputId": "34eeb9c8-ce4c-41d2-d927-2d4aba5a1e98"
      },
      "source": [
        "lista = np.arange(0,1000)\n",
        "divisores = [3,5]\n",
        "soma = []\n",
        "\n",
        "for a in divisores:\n",
        "  \n",
        "  for index in lista:\n",
        "    if index%a == 0 :\n",
        "      soma.append(index)\n",
        "\n",
        "#remove duplicates\n",
        "soma = list(dict.fromkeys(soma))\n",
        "\n",
        "#get the sum\n",
        "sum(soma)     "
      ],
      "execution_count": 96,
      "outputs": [
        {
          "output_type": "execute_result",
          "data": {
            "text/plain": [
              "233168"
            ]
          },
          "metadata": {
            "tags": []
          },
          "execution_count": 96
        }
      ]
    },
    {
      "cell_type": "markdown",
      "metadata": {
        "id": "r1MN9qAe58-z",
        "colab_type": "text"
      },
      "source": [
        "# Problem 2"
      ]
    },
    {
      "cell_type": "code",
      "metadata": {
        "id": "_n5ILloL90Cn",
        "colab_type": "code",
        "colab": {}
      },
      "source": [
        "def soma_valores(x):\n",
        "  valor = fibonacci_seq\n",
        "  return valor"
      ],
      "execution_count": 0,
      "outputs": []
    },
    {
      "cell_type": "code",
      "metadata": {
        "id": "rB0Qr2Tj8w6n",
        "colab_type": "code",
        "colab": {
          "base_uri": "https://localhost:8080/",
          "height": 561
        },
        "outputId": "2444a8b9-2044-43cf-963c-fa82404a8c51"
      },
      "source": [
        "lock = 4000000\n",
        "fibonacci_seq = [1,2]\n",
        "actual_value = sum(fibonacci_seq)\n",
        "soma_even=[]\n",
        "\n",
        "while actual_value < lock:\n",
        "  #print(fibonacci_seq)\n",
        "\n",
        "  aux = fibonacci_seq[-1]+fibonacci_seq[-2]\n",
        "  #print(aux)\n",
        "  fibonacci_seq.append(aux)\n",
        "  actual_value = sum(fibonacci_seq)\n",
        "  print(actual_value)\n",
        "for i in fibonacci_seq:\n",
        "  if i%2==0:\n",
        "    soma_even.append(i)\n",
        "\n",
        "print(\"Sequencia Fibonacci= %s\" %(fibonacci_seq))\n",
        "print(\"Número Total= %i\" %(actual_value))\n",
        "print(\"Soma Números pares= %i\" %(sum(soma_even)))"
      ],
      "execution_count": 169,
      "outputs": [
        {
          "output_type": "stream",
          "text": [
            "6\n",
            "11\n",
            "19\n",
            "32\n",
            "53\n",
            "87\n",
            "142\n",
            "231\n",
            "375\n",
            "608\n",
            "985\n",
            "1595\n",
            "2582\n",
            "4179\n",
            "6763\n",
            "10944\n",
            "17709\n",
            "28655\n",
            "46366\n",
            "75023\n",
            "121391\n",
            "196416\n",
            "317809\n",
            "514227\n",
            "832038\n",
            "1346267\n",
            "2178307\n",
            "3524576\n",
            "5702885\n",
            "Sequencia Fibonacci= [1, 2, 3, 5, 8, 13, 21, 34, 55, 89, 144, 233, 377, 610, 987, 1597, 2584, 4181, 6765, 10946, 17711, 28657, 46368, 75025, 121393, 196418, 317811, 514229, 832040, 1346269, 2178309]\n",
            "Número Total= 5702885\n",
            "Soma Números pares= 1089154\n"
          ],
          "name": "stdout"
        }
      ]
    }
  ]
}