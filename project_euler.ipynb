{
  "nbformat": 4,
  "nbformat_minor": 0,
  "metadata": {
    "colab": {
      "name": "project_euler.ipynb",
      "provenance": [],
      "authorship_tag": "ABX9TyMf3HAiZJCAhkyErtG6do9J",
      "include_colab_link": true
    },
    "kernelspec": {
      "name": "python3",
      "display_name": "Python 3"
    }
  },
  "cells": [
    {
      "cell_type": "markdown",
      "metadata": {
        "id": "view-in-github",
        "colab_type": "text"
      },
      "source": [
        "<a href=\"https://colab.research.google.com/github/ksenhuck/project_euler/blob/master/project_euler.ipynb\" target=\"_parent\"><img src=\"https://colab.research.google.com/assets/colab-badge.svg\" alt=\"Open In Colab\"/></a>"
      ]
    },
    {
      "cell_type": "code",
      "metadata": {
        "id": "scJkkT4x5-el",
        "colab_type": "code",
        "colab": {}
      },
      "source": [
        "Exercise taken from: https://projecteuler.net/"
      ],
      "execution_count": 0,
      "outputs": []
    },
    {
      "cell_type": "code",
      "metadata": {
        "id": "aeeOGyKhxmtd",
        "colab_type": "code",
        "colab": {}
      },
      "source": [
        "import pandas as pd\n",
        "import numpy as np"
      ],
      "execution_count": 0,
      "outputs": []
    },
    {
      "cell_type": "markdown",
      "metadata": {
        "id": "k_3w00vP52aE",
        "colab_type": "text"
      },
      "source": [
        "# Problem 1"
      ]
    },
    {
      "cell_type": "code",
      "metadata": {
        "id": "d0V7hnSVxw-R",
        "colab_type": "code",
        "colab": {
          "base_uri": "https://localhost:8080/",
          "height": 34
        },
        "outputId": "34eeb9c8-ce4c-41d2-d927-2d4aba5a1e98"
      },
      "source": [
        "lista = np.arange(0,1000)\n",
        "divisores = [3,5]\n",
        "soma = []\n",
        "\n",
        "for a in divisores:\n",
        "  \n",
        "  for index in lista:\n",
        "    if index%a == 0 :\n",
        "      soma.append(index)\n",
        "\n",
        "#remove duplicates\n",
        "soma = list(dict.fromkeys(soma))\n",
        "\n",
        "#get the sum\n",
        "sum(soma)     "
      ],
      "execution_count": 96,
      "outputs": [
        {
          "output_type": "execute_result",
          "data": {
            "text/plain": [
              "233168"
            ]
          },
          "metadata": {
            "tags": []
          },
          "execution_count": 96
        }
      ]
    },
    {
      "cell_type": "markdown",
      "metadata": {
        "id": "r1MN9qAe58-z",
        "colab_type": "text"
      },
      "source": [
        "# Problem 2"
      ]
    },
    {
      "cell_type": "code",
      "metadata": {
        "id": "_n5ILloL90Cn",
        "colab_type": "code",
        "colab": {}
      },
      "source": [
        "def soma_valores(x):\n",
        "  valor = fibonacci_seq\n",
        "  return valor"
      ],
      "execution_count": 0,
      "outputs": []
    },
    {
      "cell_type": "code",
      "metadata": {
        "id": "rB0Qr2Tj8w6n",
        "colab_type": "code",
        "colab": {
          "base_uri": "https://localhost:8080/",
          "height": 595
        },
        "outputId": "c22ac600-0fed-4fd6-d067-f3e75c97823e"
      },
      "source": [
        "lock = 4000000\n",
        "fibonacci_seq = [1,2]\n",
        "actual_value = fibonacci_seq[-1]\n",
        "soma_even=[]\n",
        "\n",
        "while actual_value < lock:\n",
        "  #print(fibonacci_seq)\n",
        "\n",
        "  #aux = fibonacci_seq[-1]+fibonacci_seq[-2]\n",
        "  #print(aux)\n",
        "  fibonacci_seq.append(fibonacci_seq[-1]+fibonacci_seq[-2])\n",
        "  actual_value = fibonacci_seq[-1]\n",
        "  print(actual_value)\n",
        "for i in fibonacci_seq:\n",
        "  if i%2==0:\n",
        "    soma_even.append(i)\n",
        "\n",
        "print(\"Sequencia Fibonacci= %s\" %(fibonacci_seq))\n",
        "print(\"Números pares= %s\" %(soma_even))\n",
        "print(\"Soma Números pares= %i\" %(sum(soma_even)))"
      ],
      "execution_count": 182,
      "outputs": [
        {
          "output_type": "stream",
          "text": [
            "3\n",
            "5\n",
            "8\n",
            "13\n",
            "21\n",
            "34\n",
            "55\n",
            "89\n",
            "144\n",
            "233\n",
            "377\n",
            "610\n",
            "987\n",
            "1597\n",
            "2584\n",
            "4181\n",
            "6765\n",
            "10946\n",
            "17711\n",
            "28657\n",
            "46368\n",
            "75025\n",
            "121393\n",
            "196418\n",
            "317811\n",
            "514229\n",
            "832040\n",
            "1346269\n",
            "2178309\n",
            "3524578\n",
            "5702887\n",
            "Sequencia Fibonacci= [1, 2, 3, 5, 8, 13, 21, 34, 55, 89, 144, 233, 377, 610, 987, 1597, 2584, 4181, 6765, 10946, 17711, 28657, 46368, 75025, 121393, 196418, 317811, 514229, 832040, 1346269, 2178309, 3524578, 5702887]\n",
            "Números pares= [2, 8, 34, 144, 610, 2584, 10946, 46368, 196418, 832040, 3524578]\n",
            "Soma Números pares= 4613732\n"
          ],
          "name": "stdout"
        }
      ]
    },
    {
      "cell_type": "markdown",
      "metadata": {
        "id": "eviatcaHa9O3",
        "colab_type": "text"
      },
      "source": [
        "# Problem 3"
      ]
    },
    {
      "cell_type": "code",
      "metadata": {
        "id": "N1fVuN4tbIzw",
        "colab_type": "code",
        "colab": {}
      },
      "source": [
        ""
      ],
      "execution_count": 0,
      "outputs": []
    }
  ]
}